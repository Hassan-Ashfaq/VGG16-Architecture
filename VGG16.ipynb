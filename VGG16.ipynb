{
 "cells": [
  {
   "cell_type": "code",
   "execution_count": 1,
   "id": "2e6dc221",
   "metadata": {
    "execution": {
     "iopub.execute_input": "2021-12-15T17:41:57.344471Z",
     "iopub.status.busy": "2021-12-15T17:41:57.342847Z",
     "iopub.status.idle": "2021-12-15T17:41:59.332365Z",
     "shell.execute_reply": "2021-12-15T17:41:59.332815Z",
     "shell.execute_reply.started": "2021-12-15T17:39:38.356416Z"
    },
    "papermill": {
     "duration": 2.002352,
     "end_time": "2021-12-15T17:41:59.333093",
     "exception": false,
     "start_time": "2021-12-15T17:41:57.330741",
     "status": "completed"
    },
    "tags": []
   },
   "outputs": [],
   "source": [
    "import torch\n",
    "import torchvision\n",
    "from torch import nn\n",
    "import torch.optim as optim\n",
    "from torchvision import transforms\n",
    "from torchvision.datasets import CIFAR10\n",
    "from torch.utils.data.dataloader import DataLoader"
   ]
  },
  {
   "cell_type": "code",
   "execution_count": 2,
   "id": "1063362e",
   "metadata": {
    "execution": {
     "iopub.execute_input": "2021-12-15T17:41:59.356024Z",
     "iopub.status.busy": "2021-12-15T17:41:59.355499Z",
     "iopub.status.idle": "2021-12-15T17:42:22.442922Z",
     "shell.execute_reply": "2021-12-15T17:42:22.443984Z",
     "shell.execute_reply.started": "2021-12-15T17:39:40.128955Z"
    },
    "papermill": {
     "duration": 23.102136,
     "end_time": "2021-12-15T17:42:22.444205",
     "exception": false,
     "start_time": "2021-12-15T17:41:59.342069",
     "status": "completed"
    },
    "tags": []
   },
   "outputs": [
    {
     "name": "stdout",
     "output_type": "stream",
     "text": [
      "Train DataSet len: 67692\n",
      "Train DataSet Classes: 131\n",
      "Test DataSet len: 22688\n",
      "Test DataSet Classes: 131\n"
     ]
    }
   ],
   "source": [
    "tranform = transforms.Compose([\n",
    "    transforms.Resize((224,224)), \n",
    "    transforms.ToTensor(), \n",
    "    transforms.Normalize(mean=[0.485, 0.456, 0.406], std=[0.229, 0.224, 0.225])])\n",
    "\n",
    "train_dataset = torchvision.datasets.ImageFolder(root='../input/fruits/fruits-360_dataset/fruits-360/Training', transform=tranform)\n",
    "test_dataset = torchvision.datasets.ImageFolder(root='../input/fruits/fruits-360_dataset/fruits-360/Test', transform=tranform)\n",
    "train_dataloader = DataLoader(train_dataset, batch_size=64, shuffle=True)\n",
    "test_dataloader = DataLoader(test_dataset, batch_size=64, shuffle=False)\n",
    "\n",
    "print('Train DataSet len:',len(train_dataset))\n",
    "print('Train DataSet Classes:',len(train_dataset.classes))\n",
    "print('Test DataSet len:',len(test_dataset))\n",
    "print('Test DataSet Classes:',len(test_dataset.classes))"
   ]
  },
  {
   "cell_type": "code",
   "execution_count": 3,
   "id": "8e4e2564",
   "metadata": {
    "execution": {
     "iopub.execute_input": "2021-12-15T17:42:22.477719Z",
     "iopub.status.busy": "2021-12-15T17:42:22.476899Z",
     "iopub.status.idle": "2021-12-15T17:42:22.496474Z",
     "shell.execute_reply": "2021-12-15T17:42:22.497411Z"
    },
    "papermill": {
     "duration": 0.040592,
     "end_time": "2021-12-15T17:42:22.497588",
     "exception": false,
     "start_time": "2021-12-15T17:42:22.456996",
     "status": "completed"
    },
    "tags": []
   },
   "outputs": [],
   "source": [
    "class Custom_VGG16(nn.Module):\n",
    "    def __init__(self):\n",
    "        super(Custom_VGG16, self).__init__()\n",
    "        self.ConvSet_1 = nn.Sequential(\n",
    "            nn.Conv2d(in_channels=3, out_channels=64, kernel_size=3, padding=1),\n",
    "            nn.ReLU(),\n",
    "            nn.Conv2d(in_channels=64, out_channels=64, kernel_size=3, padding=1),\n",
    "            nn.ReLU(),\n",
    "            nn.MaxPool2d(kernel_size=2, stride=2)\n",
    "        )\n",
    "        self.ConvSet_2 = nn.Sequential(\n",
    "            nn.Conv2d(in_channels=64, out_channels=128, kernel_size=3, padding=1),\n",
    "            nn.ReLU(),\n",
    "            nn.Conv2d(in_channels=128, out_channels=128, kernel_size=3, padding=1),\n",
    "            nn.ReLU(),\n",
    "            nn.MaxPool2d(kernel_size=2, stride=2)\n",
    "        )\n",
    "        self.ConvSet_3 = nn.Sequential(\n",
    "            nn.Conv2d(in_channels=128, out_channels=256, kernel_size=3, padding=1),\n",
    "            nn.ReLU(),\n",
    "            nn.Conv2d(in_channels=256, out_channels=256, kernel_size=3, padding=1),\n",
    "            nn.ReLU(),\n",
    "            nn.Conv2d(in_channels=256, out_channels=256, kernel_size=3, padding=1),\n",
    "            nn.ReLU(),\n",
    "            nn.MaxPool2d(kernel_size=2, stride=2)\n",
    "        )\n",
    "        self.ConvSet_4 = nn.Sequential(\n",
    "            nn.Conv2d(in_channels=256, out_channels=512, kernel_size=3, padding=1),\n",
    "            nn.ReLU(),\n",
    "            nn.Conv2d(in_channels=512, out_channels=512, kernel_size=3, padding=1),\n",
    "            nn.ReLU(),\n",
    "            nn.Conv2d(in_channels=512, out_channels=512, kernel_size=3, padding=1),\n",
    "            nn.ReLU(),\n",
    "            nn.MaxPool2d(kernel_size=2, stride=2)\n",
    "        )\n",
    "        self.ConvSet_5 = nn.Sequential(\n",
    "            nn.Conv2d(in_channels=512, out_channels=512, kernel_size=3, padding=1),\n",
    "            nn.ReLU(),\n",
    "            nn.Conv2d(in_channels=512, out_channels=512, kernel_size=3, padding=1),\n",
    "            nn.ReLU(),\n",
    "            nn.Conv2d(in_channels=512, out_channels=512, kernel_size=3, padding=1),\n",
    "            nn.ReLU(),\n",
    "            nn.MaxPool2d(kernel_size=2, stride=2)\n",
    "        )\n",
    "        self.FC_Layers = nn.Sequential(\n",
    "            nn.Linear(25088, 4096),\n",
    "            nn.ReLU(),\n",
    "            nn.Dropout(p=0.5),\n",
    "            nn.Linear(4096, 4096),\n",
    "            nn.ReLU(),\n",
    "            nn.Dropout(p=0.5),\n",
    "            nn.Linear(4096, 131),\n",
    "        )\n",
    "        \n",
    "    def forward(self, x):\n",
    "        out = self.ConvSet_1(x)\n",
    "        out = self.ConvSet_2(out)\n",
    "        out = self.ConvSet_3(out)\n",
    "        out = self.ConvSet_4(out)\n",
    "        out = self.ConvSet_5(out)\n",
    "        out = out.reshape(out.shape[0], -1)\n",
    "        out = self.FC_Layers(out)\n",
    "        return out"
   ]
  },
  {
   "cell_type": "code",
   "execution_count": 4,
   "id": "ab2fbd1e",
   "metadata": {
    "execution": {
     "iopub.execute_input": "2021-12-15T17:42:22.575754Z",
     "iopub.status.busy": "2021-12-15T17:42:22.574946Z",
     "iopub.status.idle": "2021-12-15T17:42:26.731062Z",
     "shell.execute_reply": "2021-12-15T17:42:26.731518Z"
    },
    "papermill": {
     "duration": 4.221992,
     "end_time": "2021-12-15T17:42:26.731681",
     "exception": false,
     "start_time": "2021-12-15T17:42:22.509689",
     "status": "completed"
    },
    "tags": []
   },
   "outputs": [
    {
     "name": "stdout",
     "output_type": "stream",
     "text": [
      "Custom_VGG16(\n",
      "  (ConvSet_1): Sequential(\n",
      "    (0): Conv2d(3, 64, kernel_size=(3, 3), stride=(1, 1), padding=(1, 1))\n",
      "    (1): ReLU()\n",
      "    (2): Conv2d(64, 64, kernel_size=(3, 3), stride=(1, 1), padding=(1, 1))\n",
      "    (3): ReLU()\n",
      "    (4): MaxPool2d(kernel_size=2, stride=2, padding=0, dilation=1, ceil_mode=False)\n",
      "  )\n",
      "  (ConvSet_2): Sequential(\n",
      "    (0): Conv2d(64, 128, kernel_size=(3, 3), stride=(1, 1), padding=(1, 1))\n",
      "    (1): ReLU()\n",
      "    (2): Conv2d(128, 128, kernel_size=(3, 3), stride=(1, 1), padding=(1, 1))\n",
      "    (3): ReLU()\n",
      "    (4): MaxPool2d(kernel_size=2, stride=2, padding=0, dilation=1, ceil_mode=False)\n",
      "  )\n",
      "  (ConvSet_3): Sequential(\n",
      "    (0): Conv2d(128, 256, kernel_size=(3, 3), stride=(1, 1), padding=(1, 1))\n",
      "    (1): ReLU()\n",
      "    (2): Conv2d(256, 256, kernel_size=(3, 3), stride=(1, 1), padding=(1, 1))\n",
      "    (3): ReLU()\n",
      "    (4): Conv2d(256, 256, kernel_size=(3, 3), stride=(1, 1), padding=(1, 1))\n",
      "    (5): ReLU()\n",
      "    (6): MaxPool2d(kernel_size=2, stride=2, padding=0, dilation=1, ceil_mode=False)\n",
      "  )\n",
      "  (ConvSet_4): Sequential(\n",
      "    (0): Conv2d(256, 512, kernel_size=(3, 3), stride=(1, 1), padding=(1, 1))\n",
      "    (1): ReLU()\n",
      "    (2): Conv2d(512, 512, kernel_size=(3, 3), stride=(1, 1), padding=(1, 1))\n",
      "    (3): ReLU()\n",
      "    (4): Conv2d(512, 512, kernel_size=(3, 3), stride=(1, 1), padding=(1, 1))\n",
      "    (5): ReLU()\n",
      "    (6): MaxPool2d(kernel_size=2, stride=2, padding=0, dilation=1, ceil_mode=False)\n",
      "  )\n",
      "  (ConvSet_5): Sequential(\n",
      "    (0): Conv2d(512, 512, kernel_size=(3, 3), stride=(1, 1), padding=(1, 1))\n",
      "    (1): ReLU()\n",
      "    (2): Conv2d(512, 512, kernel_size=(3, 3), stride=(1, 1), padding=(1, 1))\n",
      "    (3): ReLU()\n",
      "    (4): Conv2d(512, 512, kernel_size=(3, 3), stride=(1, 1), padding=(1, 1))\n",
      "    (5): ReLU()\n",
      "    (6): MaxPool2d(kernel_size=2, stride=2, padding=0, dilation=1, ceil_mode=False)\n",
      "  )\n",
      "  (FC_Layers): Sequential(\n",
      "    (0): Linear(in_features=25088, out_features=4096, bias=True)\n",
      "    (1): ReLU()\n",
      "    (2): Dropout(p=0.5, inplace=False)\n",
      "    (3): Linear(in_features=4096, out_features=4096, bias=True)\n",
      "    (4): ReLU()\n",
      "    (5): Dropout(p=0.5, inplace=False)\n",
      "    (6): Linear(in_features=4096, out_features=131, bias=True)\n",
      "  )\n",
      ")\n",
      "Device:  cuda\n"
     ]
    }
   ],
   "source": [
    "device = torch.device('cuda' if torch.cuda.is_available() else 'cpu')\n",
    "model = Custom_VGG16()\n",
    "model = model.to(device=device)\n",
    "print(model)\n",
    "print('Device: ',device)"
   ]
  },
  {
   "cell_type": "code",
   "execution_count": 5,
   "id": "13f7e352",
   "metadata": {
    "execution": {
     "iopub.execute_input": "2021-12-15T17:42:26.752700Z",
     "iopub.status.busy": "2021-12-15T17:42:26.751919Z",
     "iopub.status.idle": "2021-12-15T17:42:26.753940Z",
     "shell.execute_reply": "2021-12-15T17:42:26.754375Z"
    },
    "papermill": {
     "duration": 0.015006,
     "end_time": "2021-12-15T17:42:26.754500",
     "exception": false,
     "start_time": "2021-12-15T17:42:26.739494",
     "status": "completed"
    },
    "tags": []
   },
   "outputs": [],
   "source": [
    "learning_rate = 1e-4\n",
    "criterion = nn.CrossEntropyLoss()\n",
    "optimizer = optim.Adam(model.parameters(), lr= learning_rate)"
   ]
  },
  {
   "cell_type": "code",
   "execution_count": 6,
   "id": "688ff6d9",
   "metadata": {
    "execution": {
     "iopub.execute_input": "2021-12-15T17:42:26.776767Z",
     "iopub.status.busy": "2021-12-15T17:42:26.776263Z",
     "iopub.status.idle": "2021-12-15T23:33:25.773411Z",
     "shell.execute_reply": "2021-12-15T23:33:25.773876Z"
    },
    "papermill": {
     "duration": 21059.011808,
     "end_time": "2021-12-15T23:33:25.774136",
     "exception": false,
     "start_time": "2021-12-15T17:42:26.762328",
     "status": "completed"
    },
    "tags": []
   },
   "outputs": [
    {
     "name": "stdout",
     "output_type": "stream",
     "text": [
      "Epoch [1/30] :::: Loss: 1.8050\n",
      "Epoch [2/30] :::: Loss: 0.1387\n",
      "Epoch [3/30] :::: Loss: 0.0631\n",
      "Epoch [4/30] :::: Loss: 0.0428\n",
      "Epoch [5/30] :::: Loss: 0.0319\n",
      "Epoch [6/30] :::: Loss: 0.0302\n",
      "Epoch [7/30] :::: Loss: 0.0191\n",
      "Epoch [8/30] :::: Loss: 0.0201\n",
      "Epoch [9/30] :::: Loss: 0.0165\n",
      "Epoch [10/30] :::: Loss: 0.0125\n",
      "Epoch [11/30] :::: Loss: 0.0147\n",
      "Epoch [12/30] :::: Loss: 0.0120\n",
      "Epoch [13/30] :::: Loss: 0.0090\n",
      "Epoch [14/30] :::: Loss: 0.0108\n",
      "Epoch [15/30] :::: Loss: 0.0076\n",
      "Epoch [16/30] :::: Loss: 0.0087\n",
      "Epoch [17/30] :::: Loss: 0.0058\n",
      "Epoch [18/30] :::: Loss: 0.0068\n",
      "Epoch [19/30] :::: Loss: 0.0074\n",
      "Epoch [20/30] :::: Loss: 0.0050\n",
      "Epoch [21/30] :::: Loss: 0.0066\n",
      "Epoch [22/30] :::: Loss: 0.0044\n",
      "Epoch [23/30] :::: Loss: 0.0058\n",
      "Epoch [24/30] :::: Loss: 0.0042\n",
      "Epoch [25/30] :::: Loss: 0.0030\n",
      "Epoch [26/30] :::: Loss: 0.0048\n",
      "Epoch [27/30] :::: Loss: 0.0037\n",
      "Epoch [28/30] :::: Loss: 0.0051\n",
      "Epoch [29/30] :::: Loss: 0.0033\n",
      "Epoch [30/30] :::: Loss: 0.0033\n"
     ]
    }
   ],
   "source": [
    "num_epochs = 30\n",
    "for epoch in range(num_epochs):\n",
    "    loss_ep = 0\n",
    "    for images, labels in train_dataloader:\n",
    "        images = images.to(device=device)\n",
    "        labels = labels.to(device=device) \n",
    "        optimizer.zero_grad()\n",
    "        scores = model(images)\n",
    "        loss = criterion(scores,labels)\n",
    "        loss.backward()\n",
    "        optimizer.step()\n",
    "        loss_ep += loss.item()\n",
    "    print ('Epoch [{}/{}] :::: Loss: {:.4f}'.format(epoch+1, num_epochs, loss_ep/len(train_dataloader)))"
   ]
  },
  {
   "cell_type": "code",
   "execution_count": 7,
   "id": "6110a0ac",
   "metadata": {
    "execution": {
     "iopub.execute_input": "2021-12-15T23:33:25.812989Z",
     "iopub.status.busy": "2021-12-15T23:33:25.812343Z",
     "iopub.status.idle": "2021-12-15T23:33:27.121330Z",
     "shell.execute_reply": "2021-12-15T23:33:27.120380Z"
    },
    "papermill": {
     "duration": 1.330046,
     "end_time": "2021-12-15T23:33:27.121482",
     "exception": false,
     "start_time": "2021-12-15T23:33:25.791436",
     "status": "completed"
    },
    "tags": []
   },
   "outputs": [],
   "source": [
    "torch.save(model.state_dict(), \"Custom_VGG16.pt\")"
   ]
  },
  {
   "cell_type": "code",
   "execution_count": 8,
   "id": "386bda0c",
   "metadata": {
    "execution": {
     "iopub.execute_input": "2021-12-15T23:33:27.158557Z",
     "iopub.status.busy": "2021-12-15T23:33:27.157780Z",
     "iopub.status.idle": "2021-12-15T23:33:28.838944Z",
     "shell.execute_reply": "2021-12-15T23:33:28.839363Z"
    },
    "papermill": {
     "duration": 1.70189,
     "end_time": "2021-12-15T23:33:28.839511",
     "exception": false,
     "start_time": "2021-12-15T23:33:27.137621",
     "status": "completed"
    },
    "tags": []
   },
   "outputs": [
    {
     "data": {
      "text/plain": [
       "Custom_VGG16(\n",
       "  (ConvSet_1): Sequential(\n",
       "    (0): Conv2d(3, 64, kernel_size=(3, 3), stride=(1, 1), padding=(1, 1))\n",
       "    (1): ReLU()\n",
       "    (2): Conv2d(64, 64, kernel_size=(3, 3), stride=(1, 1), padding=(1, 1))\n",
       "    (3): ReLU()\n",
       "    (4): MaxPool2d(kernel_size=2, stride=2, padding=0, dilation=1, ceil_mode=False)\n",
       "  )\n",
       "  (ConvSet_2): Sequential(\n",
       "    (0): Conv2d(64, 128, kernel_size=(3, 3), stride=(1, 1), padding=(1, 1))\n",
       "    (1): ReLU()\n",
       "    (2): Conv2d(128, 128, kernel_size=(3, 3), stride=(1, 1), padding=(1, 1))\n",
       "    (3): ReLU()\n",
       "    (4): MaxPool2d(kernel_size=2, stride=2, padding=0, dilation=1, ceil_mode=False)\n",
       "  )\n",
       "  (ConvSet_3): Sequential(\n",
       "    (0): Conv2d(128, 256, kernel_size=(3, 3), stride=(1, 1), padding=(1, 1))\n",
       "    (1): ReLU()\n",
       "    (2): Conv2d(256, 256, kernel_size=(3, 3), stride=(1, 1), padding=(1, 1))\n",
       "    (3): ReLU()\n",
       "    (4): Conv2d(256, 256, kernel_size=(3, 3), stride=(1, 1), padding=(1, 1))\n",
       "    (5): ReLU()\n",
       "    (6): MaxPool2d(kernel_size=2, stride=2, padding=0, dilation=1, ceil_mode=False)\n",
       "  )\n",
       "  (ConvSet_4): Sequential(\n",
       "    (0): Conv2d(256, 512, kernel_size=(3, 3), stride=(1, 1), padding=(1, 1))\n",
       "    (1): ReLU()\n",
       "    (2): Conv2d(512, 512, kernel_size=(3, 3), stride=(1, 1), padding=(1, 1))\n",
       "    (3): ReLU()\n",
       "    (4): Conv2d(512, 512, kernel_size=(3, 3), stride=(1, 1), padding=(1, 1))\n",
       "    (5): ReLU()\n",
       "    (6): MaxPool2d(kernel_size=2, stride=2, padding=0, dilation=1, ceil_mode=False)\n",
       "  )\n",
       "  (ConvSet_5): Sequential(\n",
       "    (0): Conv2d(512, 512, kernel_size=(3, 3), stride=(1, 1), padding=(1, 1))\n",
       "    (1): ReLU()\n",
       "    (2): Conv2d(512, 512, kernel_size=(3, 3), stride=(1, 1), padding=(1, 1))\n",
       "    (3): ReLU()\n",
       "    (4): Conv2d(512, 512, kernel_size=(3, 3), stride=(1, 1), padding=(1, 1))\n",
       "    (5): ReLU()\n",
       "    (6): MaxPool2d(kernel_size=2, stride=2, padding=0, dilation=1, ceil_mode=False)\n",
       "  )\n",
       "  (FC_Layers): Sequential(\n",
       "    (0): Linear(in_features=25088, out_features=4096, bias=True)\n",
       "    (1): ReLU()\n",
       "    (2): Dropout(p=0.5, inplace=False)\n",
       "    (3): Linear(in_features=4096, out_features=4096, bias=True)\n",
       "    (4): ReLU()\n",
       "    (5): Dropout(p=0.5, inplace=False)\n",
       "    (6): Linear(in_features=4096, out_features=131, bias=True)\n",
       "  )\n",
       ")"
      ]
     },
     "execution_count": 8,
     "metadata": {},
     "output_type": "execute_result"
    }
   ],
   "source": [
    "model = Custom_VGG16()\n",
    "model.load_state_dict(torch.load(\"./Custom_VGG16.pt\"))\n",
    "model = model.to(device=device)\n",
    "model.eval()"
   ]
  },
  {
   "cell_type": "code",
   "execution_count": 9,
   "id": "9423ed8c",
   "metadata": {
    "execution": {
     "iopub.execute_input": "2021-12-15T23:33:28.878793Z",
     "iopub.status.busy": "2021-12-15T23:33:28.878297Z",
     "iopub.status.idle": "2021-12-15T23:37:45.116556Z",
     "shell.execute_reply": "2021-12-15T23:37:45.116990Z"
    },
    "papermill": {
     "duration": 256.260579,
     "end_time": "2021-12-15T23:37:45.117159",
     "exception": false,
     "start_time": "2021-12-15T23:33:28.856580",
     "status": "completed"
    },
    "tags": []
   },
   "outputs": [
    {
     "name": "stdout",
     "output_type": "stream",
     "text": [
      "Accuracy of the Model on the 22688 Test Images: 93.41061354019746%\n"
     ]
    }
   ],
   "source": [
    "with torch.no_grad():\n",
    "    correct = 0\n",
    "    total = 0\n",
    "    for images, labels in test_dataloader:\n",
    "        images = images.to(device=device)\n",
    "        labels = labels.to(device=device) \n",
    "        outputs = model(images)\n",
    "        _, predicted = torch.max(outputs.data, 1)\n",
    "        total += labels.size(0)\n",
    "        correct += (predicted == labels).sum().item()\n",
    "    print('Accuracy of the Model on the {} Test Images: {}%'.format(len(test_dataset), 100*correct /total))"
   ]
  },
  {
   "cell_type": "code",
   "execution_count": null,
   "id": "239aff64",
   "metadata": {
    "papermill": {
     "duration": 0.016028,
     "end_time": "2021-12-15T23:37:45.149646",
     "exception": false,
     "start_time": "2021-12-15T23:37:45.133618",
     "status": "completed"
    },
    "tags": []
   },
   "outputs": [],
   "source": []
  }
 ],
 "metadata": {
  "kernelspec": {
   "display_name": "Python 3",
   "language": "python",
   "name": "python3"
  },
  "language_info": {
   "codemirror_mode": {
    "name": "ipython",
    "version": 3
   },
   "file_extension": ".py",
   "mimetype": "text/x-python",
   "name": "python",
   "nbconvert_exporter": "python",
   "pygments_lexer": "ipython3",
   "version": "3.7.12"
  },
  "papermill": {
   "default_parameters": {},
   "duration": 21357.951746,
   "end_time": "2021-12-15T23:37:46.629654",
   "environment_variables": {},
   "exception": null,
   "input_path": "__notebook__.ipynb",
   "output_path": "__notebook__.ipynb",
   "parameters": {},
   "start_time": "2021-12-15T17:41:48.677908",
   "version": "2.3.3"
  }
 },
 "nbformat": 4,
 "nbformat_minor": 5
}
